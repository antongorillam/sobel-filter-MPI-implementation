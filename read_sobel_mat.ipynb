{
 "cells": [
  {
   "cell_type": "code",
   "execution_count": 14,
   "metadata": {},
   "outputs": [],
   "source": [
    "import pandas as pd\n",
    "import matplotlib.pyplot as plt\n",
    "from PIL import Image"
   ]
  },
  {
   "cell_type": "code",
   "execution_count": 30,
   "metadata": {},
   "outputs": [],
   "source": [
    "image_original = pd.read_csv('images/mat_files/index.csv', header=None).values\n",
    "# Normalize the data to fit in the range of 0 to 255\n",
    "normalized_data = ((image_original - image_original.min()) * (1/(image_original.max() - image_original.min()) * 255)).astype('uint8')\n",
    "\n",
    "# Create an image from the numpy array\n",
    "img = Image.fromarray(normalized_data)\n",
    "\n",
    "img.save(\"image_grey.png\")\n",
    "\n",
    "# Save the grayscale image as a PNG file"
   ]
  },
  {
   "cell_type": "code",
   "execution_count": null,
   "metadata": {},
   "outputs": [],
   "source": []
  },
  {
   "cell_type": "code",
   "execution_count": 34,
   "metadata": {},
   "outputs": [],
   "source": [
    "image_filtered = pd.read_csv('images/mat_filtered/filtered_index.csv', header=None).values\n",
    "\n",
    "normalized_data = ((image_filtered - image_filtered.min()) * (1/(image_filtered.max() - image_filtered.min()) * 255)).astype('uint8')\n",
    "\n",
    "# Create an image from the numpy array\n",
    "img = Image.fromarray(normalized_data)\n",
    "\n",
    "img.save(\"output_image_gray.png\")\n",
    "\n",
    "# Save the grayscale image as a PNG file"
   ]
  }
 ],
 "metadata": {
  "kernelspec": {
   "display_name": "Python 3",
   "language": "python",
   "name": "python3"
  },
  "language_info": {
   "codemirror_mode": {
    "name": "ipython",
    "version": 3
   },
   "file_extension": ".py",
   "mimetype": "text/x-python",
   "name": "python",
   "nbconvert_exporter": "python",
   "pygments_lexer": "ipython3",
   "version": "3.8.10"
  },
  "orig_nbformat": 4,
  "vscode": {
   "interpreter": {
    "hash": "31f2aee4e71d21fbe5cf8b01ff0e069b9275f58929596ceb00d14d90e3e16cd6"
   }
  }
 },
 "nbformat": 4,
 "nbformat_minor": 2
}
